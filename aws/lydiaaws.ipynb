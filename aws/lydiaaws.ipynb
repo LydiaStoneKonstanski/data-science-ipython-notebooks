{
 "cells": [
  {
   "cell_type": "code",
   "execution_count": 1,
   "id": "d3a4710f-6d49-4f49-b4bb-1c9c94eb2d74",
   "metadata": {},
   "outputs": [
    {
     "name": "stdout",
     "output_type": "stream",
     "text": [
      "/Users/lydia/aws-cli-env\n"
     ]
    }
   ],
   "source": [
    "cd /Users/lydia/aws-cli-env"
   ]
  },
  {
   "cell_type": "code",
   "execution_count": 4,
   "id": "625b7fce-8681-4f54-846e-58aa906e674b",
   "metadata": {},
   "outputs": [],
   "source": [
    "import sys"
   ]
  },
  {
   "cell_type": "code",
   "execution_count": null,
   "id": "d565181d-e50c-4b27-bee4-9b12b1bffefe",
   "metadata": {},
   "outputs": [],
   "source": []
  }
 ],
 "metadata": {
  "kernelspec": {
   "display_name": "Python 3 (ipykernel)",
   "language": "python",
   "name": "python3"
  },
  "language_info": {
   "codemirror_mode": {
    "name": "ipython",
    "version": 3
   },
   "file_extension": ".py",
   "mimetype": "text/x-python",
   "name": "python",
   "nbconvert_exporter": "python",
   "pygments_lexer": "ipython3",
   "version": "3.12.2"
  }
 },
 "nbformat": 4,
 "nbformat_minor": 5
}
